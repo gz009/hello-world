{
  "nbformat": 4,
  "nbformat_minor": 0,
  "metadata": {
    "colab": {
      "name": "EEE-231-Basic_Signals_Notebook_1.ipynb",
      "provenance": [],
      "collapsed_sections": [],
      "authorship_tag": "ABX9TyOO7mCLQ6dN4u/h7jl+4I1H",
      "include_colab_link": true
    },
    "kernelspec": {
      "name": "python3",
      "display_name": "Python 3"
    },
    "language_info": {
      "name": "python"
    }
  },
  "cells": [
    {
      "cell_type": "markdown",
      "metadata": {
        "id": "view-in-github",
        "colab_type": "text"
      },
      "source": [
        "<a href=\"https://colab.research.google.com/github/gz009/hello-world/blob/master/EEE_231_Basic_Signals_Notebook_1.ipynb\" target=\"_parent\"><img src=\"https://colab.research.google.com/assets/colab-badge.svg\" alt=\"Open In Colab\"/></a>"
      ]
    },
    {
      "cell_type": "markdown",
      "source": [
        "## FUNCTIONS\n",
        "\n",
        "**Sinusoids**\n",
        "\n",
        "For example, consider defining the exponentially damped sinusoid $$\n",
        "f(t) = e^{−t} cos(2πt)\n",
        "$$\n",
        "\n"
      ],
      "metadata": {
        "id": "jx79iDhRwnHh"
      }
    },
    {
      "cell_type": "code",
      "source": [
        "import sympy as sym\n",
        "sym.init_printing()\n",
        "\n",
        "t = sym.Symbol('t', real=True)\n",
        "f = sym.exp(-1*t) * sym.cos(2*sym.pi*t)\n",
        "f"
      ],
      "metadata": {
        "colab": {
          "base_uri": "https://localhost:8080/",
          "height": 38
        },
        "id": "ycPELmbrydkZ",
        "outputId": "35b14c4f-8628-4605-f989-ea7a27850fbc"
      },
      "execution_count": 3,
      "outputs": [
        {
          "output_type": "execute_result",
          "data": {
            "text/plain": [
              " -t           \n",
              "ℯ  ⋅cos(2⋅π⋅t)"
            ],
            "image/png": "[encoded data removed]",
            "text/latex": "$\\displaystyle e^{- t} \\cos{\\left(2 \\pi t \\right)}$"
          },
          "metadata": {},
          "execution_count": 3
        }
      ]
    },
    {
      "cell_type": "code",
      "source": [
        "sym.plot(f, (t, 0, 2*sym.pi), ylabel=r'{$e^{-t} cos(2*pi*t)$}')\n"
      ],
      "metadata": {
        "colab": {
          "base_uri": "https://localhost:8080/",
          "height": 314
        },
        "id": "RUuuMF5l0V_M",
        "outputId": "c7bce50c-2363-417f-f5bb-6d560aa36083"
      },
      "execution_count": null,
      "outputs": [
        {
          "output_type": "display_data",
          "data": {
            "text/plain": [
              "<Figure size 432x288 with 1 Axes>"
            ],
            "image/png": "[encoded data removed]"
          },
          "metadata": {
            "needs_background": "light"
          }
        },
        {
          "output_type": "execute_result",
          "data": {
            "text/plain": [
              "<sympy.plotting.plot.Plot at 0x7f9afd79af50>"
            ]
          },
          "metadata": {},
          "execution_count": 2
        }
      ]
    },
    {
      "cell_type": "markdown",
      "source": [
        "## 1.1-1 Signal Energy\n",
        "Arguing in this manner, we may consider the area under a signal $x(t)$ as a possible measure of its size, because it takes account not only of the amplitude but also of the duration. \n",
        "\n",
        "However, this will be a defective measure because even for a large signal $x(t)$, its positive and negative areas could cancel each other, indicating a signal of small size. This difficulty can be corrected by defining the signal size as the area under $|x(t)|^2$ , which is always positive. We call this measure the *signal energy* $E_x$ , defined as\n",
        "$$\n",
        "E_x = \\int_{-∞}^{∞} |x(t)|^2 dt\n",
        "$$ (1.1)\n",
        "\n",
        "This definition simplifies for a real-valued signal $x(t)$ to $E_x = \\int_{-∞}^{∞} x^2(t) dt$. There are also other possible measures of signal size, such as the area under $|x(t)|$. The energy measure, however, is not only more tractable mathematically but is also more meaningful (as shown later) in the sense that it is indicative of the energy that can be extracted from the signal.\n",
        "\n",
        "## 1.1-2 Signal Power\n",
        "Signal energy must be finite for it to be a meaningful measure of signal size. A necessary condition for the energy to be finite is that the signal amplitude $→ 0$ as $|t| → ∞$ (Fig. 1.1a). Otherwise the integral in Eq. (1.1) will not converge.\n",
        "When the amplitude of $x(t)$ does not $→ 0$ as $|t| → ∞$ (Fig. 1.1b), the signal energy is infinite.\n",
        "\n",
        "A more meaningful measure of the signal size in such a case would be the time average of the energy, if it exists. This measure is called the power of the signal. \n",
        "\n",
        "For a signal $x(t)$, we define its power $P_x$ as\n",
        "$$\n",
        "P_x = \\lim_{ T \\rightarrow ∞ } \\frac{1}{T} \\int_{−T/2}^{T/2} |x(t)|^2 dt\n",
        "$$\n",
        "(1.2)\n",
        "\n",
        "\n",
        "This definition simplifies for a real-valued signal $x(t)$ to $P_x = \\lim_{ T \\rightarrow ∞ } \\frac{1}{T} \\int_{−T/2}^{T/2} x^2(t) dt $\n",
        ". Observe that the signal power $P_x$ is the time average (mean) of the signal magnitude squared, that is, the mean-square value of $|x(t)|$. Indeed, the square root of $P_x$ is the familiar rms (root-mean-square) value of $x(t)$.\n",
        "\n",
        "Generally, the mean of an entity averaged over a large time interval approaching infinity exists if the entity either is periodic or has a statistical regularity. \n",
        "\n",
        "If such a condition is not satisfied, the average may not exist. For instance, a ramp signal $x(t) = t$ increases indefinitely as $|t| → ∞$, and neither the energy nor the power exists for this signal. \n",
        "\n",
        "However, the unit step function, which is not periodic nor has statistical regularity, does have a finite power.\n",
        "\n"
      ],
      "metadata": {
        "id": "6SgpC3-MC3CG"
      }
    },
    {
      "cell_type": "markdown",
      "source": [
        "In $Fig. 1.2a$, the signal amplitude $→ 0$ as $|t| → ∞$. Therefore the suitable measure for this signal is its energy $E_x$ given by\n",
        "$$\n",
        "E_x = \\int_{-∞}^{∞} |x(t)|^2 dt = \\int_{-1}^{0} (2)^2 dt + \\int_{0}^{∞} 4e^{-t} dt = 4 + 4 = 8\n",
        "$$\n",
        ".\n",
        "In $Fig. 1.2b$, the signal magnitude does not $→ 0$ as $|t| → ∞$. However, it is periodic, and therefore its power exists. \n",
        ".\n",
        "We can use Eq. (1.2) to determine its power. We can simplify the\n",
        "procedure for periodic signals by observing that a periodic signal repeats regularly each period (2 seconds in this case). Therefore, averaging $|x(t)|^2$ over an infinitely large interval is identical\n",
        "to averaging this quantity over one period (2 seconds in this case). Thus\n",
        "$$\n",
        "P_x = \\lim_{ T \\rightarrow ∞ } \\frac{1}{T} \\int_{−T/2}^{T/2} |x(t)|^2 dt = \\frac{1}{2} \\int_{−1}^{1} |x(t)|^2 dt = \\frac{1}{2} \\int_{−1}^{1} t^2 dt = \\frac{1}{3}\n",
        "$$\n",
        "\n",
        "Recall that the signal power is the square of its rms value. Therefore, the rms value of this signal is $\\frac{1}{3}$."
      ],
      "metadata": {
        "id": "pKHEiL4uC3gu"
      }
    },
    {
      "cell_type": "code",
      "source": [
        "from sympy import integrate, log, exp, oo\n",
        "from sympy.abc import a, x, y, t"
      ],
      "metadata": {
        "id": "KvQTjzKwcfyU"
      },
      "execution_count": 15,
      "outputs": []
    },
    {
      "cell_type": "code",
      "source": [
        "ex1 = 2**2\n"
      ],
      "metadata": {
        "id": "Neh6T1RScynv"
      },
      "execution_count": 11,
      "outputs": []
    },
    {
      "cell_type": "code",
      "source": [
        "ex1"
      ],
      "metadata": {
        "colab": {
          "base_uri": "https://localhost:8080/",
          "height": 37
        },
        "id": "dKF05KdAc5gs",
        "outputId": "d1358813-f913-417f-f069-f2ca6e66f1cf"
      },
      "execution_count": 12,
      "outputs": [
        {
          "output_type": "execute_result",
          "data": {
            "text/plain": [
              "4"
            ],
            "image/png": "[encoded data removed]",
            "text/latex": "$\\displaystyle 4$"
          },
          "metadata": {},
          "execution_count": 12
        }
      ]
    },
    {
      "cell_type": "code",
      "source": [
        "e1 = integrate(ex1, (t, -1, 0))\n"
      ],
      "metadata": {
        "id": "PBuQc6_9dAgf"
      },
      "execution_count": 13,
      "outputs": []
    },
    {
      "cell_type": "code",
      "source": [
        "e1"
      ],
      "metadata": {
        "colab": {
          "base_uri": "https://localhost:8080/",
          "height": 37
        },
        "id": "MZEQL3BgdLiN",
        "outputId": "bd552455-313a-47fe-a05a-eb4f8a26acd9"
      },
      "execution_count": 14,
      "outputs": [
        {
          "output_type": "execute_result",
          "data": {
            "text/plain": [
              "4"
            ],
            "image/png": "[encoded data removed]",
            "text/latex": "$\\displaystyle 4$"
          },
          "metadata": {},
          "execution_count": 14
        }
      ]
    },
    {
      "cell_type": "code",
      "source": [
        "ex2 = 4*exp(-t)\n"
      ],
      "metadata": {
        "id": "dJsz8PpFdcDU"
      },
      "execution_count": 18,
      "outputs": []
    },
    {
      "cell_type": "code",
      "source": [
        "ex2"
      ],
      "metadata": {
        "colab": {
          "base_uri": "https://localhost:8080/",
          "height": 38
        },
        "id": "IqPWPFYAdt0J",
        "outputId": "66e03881-8a29-4d89-cd3e-5a30acb74898"
      },
      "execution_count": 19,
      "outputs": [
        {
          "output_type": "execute_result",
          "data": {
            "text/plain": [
              "   -t\n",
              "4⋅ℯ  "
            ],
            "image/png": "[encoded data removed]",
            "text/latex": "$\\displaystyle 4 e^{- t}$"
          },
          "metadata": {},
          "execution_count": 19
        }
      ]
    },
    {
      "cell_type": "code",
      "source": [
        "e2 = integrate(ex2, (t, 0, oo))\n"
      ],
      "metadata": {
        "id": "NLi9Bpd2eFIe"
      },
      "execution_count": 22,
      "outputs": []
    },
    {
      "cell_type": "code",
      "source": [
        "e2"
      ],
      "metadata": {
        "colab": {
          "base_uri": "https://localhost:8080/",
          "height": 37
        },
        "id": "cUhefWiEeSB-",
        "outputId": "d0b02248-544e-4d83-9dfc-9409228d7ea3"
      },
      "execution_count": 23,
      "outputs": [
        {
          "output_type": "execute_result",
          "data": {
            "text/plain": [
              "4"
            ],
            "image/png": "[encoded data removed]",
            "text/latex": "$\\displaystyle 4$"
          },
          "metadata": {},
          "execution_count": 23
        }
      ]
    },
    {
      "cell_type": "code",
      "source": [
        "e = e1 + e2\n",
        "e"
      ],
      "metadata": {
        "id": "FxkhoeaN1Chj",
        "colab": {
          "base_uri": "https://localhost:8080/",
          "height": 37
        },
        "outputId": "0ed2b187-d14d-4d64-89e2-6affa0c3da8f"
      },
      "execution_count": 24,
      "outputs": [
        {
          "output_type": "execute_result",
          "data": {
            "text/plain": [
              "8"
            ],
            "image/png": "[encoded data removed]",
            "text/latex": "$\\displaystyle 8$"
          },
          "metadata": {},
          "execution_count": 24
        }
      ]
    },
    {
      "cell_type": "code",
      "source": [
        "px1 = t**2"
      ],
      "metadata": {
        "id": "2kMzOA6qinf1"
      },
      "execution_count": 25,
      "outputs": []
    },
    {
      "cell_type": "code",
      "source": [
        "px1"
      ],
      "metadata": {
        "colab": {
          "base_uri": "https://localhost:8080/",
          "height": 38
        },
        "id": "Wdhg3xOCitYi",
        "outputId": "eedc24a4-efec-4da5-f52d-2b50aa80d77d"
      },
      "execution_count": 26,
      "outputs": [
        {
          "output_type": "execute_result",
          "data": {
            "text/plain": [
              " 2\n",
              "t "
            ],
            "image/png": "[encoded data removed]",
            "text/latex": "$\\displaystyle t^{2}$"
          },
          "metadata": {},
          "execution_count": 26
        }
      ]
    },
    {
      "cell_type": "code",
      "source": [
        "p1 = integrate(px1, (t, -1, 1))\n",
        "p = 0.5 * p1\n",
        "p"
      ],
      "metadata": {
        "colab": {
          "base_uri": "https://localhost:8080/",
          "height": 37
        },
        "id": "DeBtI1V2S3Pm",
        "outputId": "f9e0cf21-aba0-4b81-8c24-75d106e868f5"
      },
      "execution_count": 27,
      "outputs": [
        {
          "output_type": "execute_result",
          "data": {
            "text/plain": [
              "0.333333333333333"
            ],
            "image/png": "[encoded data removed]",
            "text/latex": "$\\displaystyle 0.333333333333333$"
          },
          "metadata": {},
          "execution_count": 27
        }
      ]
    },
    {
      "cell_type": "code",
      "source": [
        "import math\n",
        "rms1 = math.sqrt(p)"
      ],
      "metadata": {
        "id": "ZT2ajfjli4Zv"
      },
      "execution_count": 30,
      "outputs": []
    },
    {
      "cell_type": "code",
      "source": [
        "rms1"
      ],
      "metadata": {
        "colab": {
          "base_uri": "https://localhost:8080/",
          "height": 37
        },
        "id": "ZGSIPxNOjJ0m",
        "outputId": "dd40853d-b554-41a9-b979-6884b3b173f0"
      },
      "execution_count": 31,
      "outputs": [
        {
          "output_type": "execute_result",
          "data": {
            "text/plain": [
              "0.5773502691896257"
            ],
            "image/png": "[encoded data removed]",
            "text/latex": "$\\displaystyle 0.577350269189626$"
          },
          "metadata": {},
          "execution_count": 31
        }
      ]
    },
    {
      "cell_type": "markdown",
      "source": [
        "#Blank\n",
        ".... Intentionally ... Left as Blank"
      ],
      "metadata": {
        "id": "zKaPfkJxX7Q0"
      }
    },
    {
      "cell_type": "markdown",
      "source": [
        "# sympy.integrals.integrals.integrate(f, var, ...)[source]\n",
        "\n",
        "### Deprecated since version 1.6: Using integrate() with Poly is deprecated. Use Poly.integrate() instead. See Using integrate with Poly.\n",
        "\n",
        "## Explanation\n",
        "\n",
        "Compute definite or indefinite integral of one or more variables using Risch-Norman algorithm and table lookup. This procedure is able to handle elementary algebraic and transcendental functions and also a huge class of special functions, including Airy, Bessel, Whittaker and Lambert.\n",
        "\n",
        "#### var can be:\n",
        "\n",
        "**a symbol – indefinite integration**\n",
        "\n",
        "**a tuple (symbol, a) – indefinite integration with result\n",
        "given with a replacing symbol**\n",
        "\n",
        "**a tuple (symbol, a, b) – definite integration**\n",
        "\n",
        "**Several variables can be specified, in which case the result is multiple integration. (If var is omitted and the integrand is univariate, the indefinite integral in that variable will be performed.)**\n",
        "\n",
        "**Indefinite integrals are returned without terms that are independent of the integration variables. (see examples)**\n",
        "\n",
        "**Definite improper integrals often entail delicate convergence conditions. Pass conds=’piecewise’, ‘separate’ or ‘none’ to have these returned, respectively, as a Piecewise function, as a separate result (i.e. result will be a tuple), or not at all (default is ‘piecewise’).**\n",
        "\n",
        "## Strategy\n",
        "\n",
        "SymPy uses various approaches to definite integration. One method is to find an antiderivative for the integrand, and then use the fundamental theorem of calculus. Various functions are implemented to integrate polynomial, rational and trigonometric functions, and integrands containing DiracDelta terms.\n",
        "\n",
        "SymPy also implements the part of the Risch algorithm, which is a decision procedure for integrating elementary functions, i.e., the algorithm can either find an elementary antiderivative, or prove that one does not exist. There is also a (very successful, albeit somewhat slow) general implementation of the heuristic Risch algorithm. This algorithm will eventually be phased out as more of the full Risch algorithm is implemented. See the docstring of Integral._eval_integral() for more details on computing the antiderivative using algebraic methods.\n",
        "\n",
        "The option risch=True can be used to use only the (full) Risch algorithm. This is useful if you want to know if an elementary function has an elementary antiderivative. If the indefinite Integral returned by this function is an instance of NonElementaryIntegral, that means that the Risch algorithm has proven that integral to be non-elementary. Note that by default, additional methods (such as the Meijer G method outlined below) are tried on these integrals, as they may be expressible in terms of special functions, so if you only care about elementary answers, use risch=True. Also note that an unevaluated Integral returned by this function is not necessarily a NonElementaryIntegral, even with risch=True, as it may just be an indication that the particular part of the Risch algorithm needed to integrate that function is not yet implemented.\n",
        "\n",
        "Another family of strategies comes from re-writing the integrand in terms of so-called Meijer G-functions. Indefinite integrals of a single G-function can always be computed, and the definite integral of a product of two G-functions can be computed from zero to infinity. Various strategies are implemented to rewrite integrands as G-functions, and use this information to compute integrals (see the meijerint module).\n",
        "\n",
        "The option manual=True can be used to use only an algorithm that tries to mimic integration by hand. This algorithm does not handle as many integrands as the other algorithms implemented but may return results in a more familiar form. The manualintegrate module has functions that return the steps used (see the module docstring for more information).\n",
        "\n",
        "In general, the algebraic methods work best for computing antiderivatives of (possibly complicated) combinations of elementary functions. The G-function methods work best for computing definite integrals from zero to infinity of moderately complicated combinations of special functions, or indefinite integrals of very simple combinations of special functions.\n",
        "\n",
        "**The strategy employed by the integration code is as follows:**\n",
        "\n",
        "**If computing a definite integral, and both limits are real, and at least one limit is +- oo, try the G-function method of definite integration first.**\n",
        "\n",
        "**Try to find an antiderivative, using all available methods, ordered by performance (that is try fastest method first, slowest last; in particular polynomial integration is tried first, Meijer G-functions second to last, and heuristic Risch last).**\n",
        "\n",
        "**If still not successful, try G-functions irrespective of the limits.**\n",
        "\n",
        "**The option meijerg=True, False, None can be used to, respectively: always use G-function methods and no others, never use G-function methods, or use all available methods (in order as described above). It defaults to None.**"
      ],
      "metadata": {
        "id": "TleZGj5TX73D"
      }
    },
    {
      "cell_type": "code",
      "source": [
        "from sympy import integrate, log, exp, oo\n",
        "from sympy.abc import a, x, y, t"
      ],
      "metadata": {
        "id": "R69lpbpqlOk-"
      },
      "execution_count": 32,
      "outputs": []
    },
    {
      "cell_type": "code",
      "source": [
        "integrate(x*y, x)\n",
        "##x**2*y/2"
      ],
      "metadata": {
        "colab": {
          "base_uri": "https://localhost:8080/",
          "height": 53
        },
        "id": "AmoxcR9qlbTL",
        "outputId": "eae25ad6-3e1d-4fbf-f50f-85e5b8652467"
      },
      "execution_count": 33,
      "outputs": [
        {
          "output_type": "execute_result",
          "data": {
            "text/plain": [
              " 2  \n",
              "x ⋅y\n",
              "────\n",
              " 2  "
            ],
            "image/png": "[encoded data removed]",
            "text/latex": "$\\displaystyle \\frac{x^{2} y}{2}$"
          },
          "metadata": {},
          "execution_count": 33
        }
      ]
    },
    {
      "cell_type": "code",
      "source": [
        "integrate(log(x), x)\n",
        "## x*log(x) - x"
      ],
      "metadata": {
        "colab": {
          "base_uri": "https://localhost:8080/",
          "height": 38
        },
        "id": "xA3beXbalvKn",
        "outputId": "f5e2d699-8cbf-450c-d184-f40ba590be39"
      },
      "execution_count": 34,
      "outputs": [
        {
          "output_type": "execute_result",
          "data": {
            "text/plain": [
              "x⋅log(x) - x"
            ],
            "image/png": "[encoded data removed]",
            "text/latex": "$\\displaystyle x \\log{\\left(x \\right)} - x$"
          },
          "metadata": {},
          "execution_count": 34
        }
      ]
    },
    {
      "cell_type": "code",
      "source": [
        "integrate(log(x), (x, 1, a))\n",
        "### a*log(a) - a + 1"
      ],
      "metadata": {
        "colab": {
          "base_uri": "https://localhost:8080/",
          "height": 38
        },
        "id": "VCKgIlpVmFPu",
        "outputId": "f22f7d4c-4fa0-43d2-8209-0117f50a6b86"
      },
      "execution_count": 35,
      "outputs": [
        {
          "output_type": "execute_result",
          "data": {
            "text/plain": [
              "a⋅log(a) - a + 1"
            ],
            "image/png": "[encoded data removed]",
            "text/latex": "$\\displaystyle a \\log{\\left(a \\right)} - a + 1$"
          },
          "metadata": {},
          "execution_count": 35
        }
      ]
    },
    {
      "cell_type": "code",
      "source": [
        "from sympy import sqrt\n",
        "\n",
        "integrate(sqrt(1 + x), (x, 0, x))\n",
        "### 2*(x + 1)**(3/2)/3 - 2/3\n"
      ],
      "metadata": {
        "colab": {
          "base_uri": "https://localhost:8080/",
          "height": 58
        },
        "id": "xyClkrKImRgO",
        "outputId": "de389325-85fe-4028-c62f-47137263805f"
      },
      "execution_count": 36,
      "outputs": [
        {
          "output_type": "execute_result",
          "data": {
            "text/plain": [
              "         3/2    \n",
              "2⋅(x + 1)      2\n",
              "──────────── - ─\n",
              "     3         3"
            ],
            "image/png": "[encoded data removed]",
            "text/latex": "$\\displaystyle \\frac{2 \\left(x + 1\\right)^{\\frac{3}{2}}}{3} - \\frac{2}{3}$"
          },
          "metadata": {},
          "execution_count": 36
        }
      ]
    },
    {
      "cell_type": "code",
      "source": [
        "integrate(sqrt(1 + x), x)\n",
        "### 2*(x + 1)**(3/2)/3"
      ],
      "metadata": {
        "colab": {
          "base_uri": "https://localhost:8080/",
          "height": 58
        },
        "id": "fuJEVlLgmmHU",
        "outputId": "87c853cd-49f1-4d79-d4b7-72c3f038529c"
      },
      "execution_count": 37,
      "outputs": [
        {
          "output_type": "execute_result",
          "data": {
            "text/plain": [
              "         3/2\n",
              "2⋅(x + 1)   \n",
              "────────────\n",
              "     3      "
            ],
            "image/png": "[encoded data removed]",
            "text/latex": "$\\displaystyle \\frac{2 \\left(x + 1\\right)^{\\frac{3}{2}}}{3}$"
          },
          "metadata": {},
          "execution_count": 37
        }
      ]
    },
    {
      "cell_type": "code",
      "source": [
        "\n",
        "integrate(x*y)"
      ],
      "metadata": {
        "colab": {
          "base_uri": "https://localhost:8080/",
          "height": 328
        },
        "id": "ZiIfseb8m6zk",
        "outputId": "3938f10e-d2b8-4347-e144-c9dda0cafa1a"
      },
      "execution_count": 38,
      "outputs": [
        {
          "output_type": "error",
          "ename": "ValueError",
          "evalue": "ignored",
          "traceback": [
            "\u001b[0;31m---------------------------------------------------------------------------\u001b[0m",
            "\u001b[0;31mValueError\u001b[0m                                Traceback (most recent call last)",
            "\u001b[0;32m<ipython-input-38-0a0379864cb6>\u001b[0m in \u001b[0;36m<module>\u001b[0;34m()\u001b[0m\n\u001b[1;32m      1\u001b[0m \u001b[0;34m\u001b[0m\u001b[0m\n\u001b[0;32m----> 2\u001b[0;31m \u001b[0mintegrate\u001b[0m\u001b[0;34m(\u001b[0m\u001b[0mx\u001b[0m\u001b[0;34m*\u001b[0m\u001b[0my\u001b[0m\u001b[0;34m)\u001b[0m\u001b[0;34m\u001b[0m\u001b[0;34m\u001b[0m\u001b[0m\n\u001b[0m",
            "\u001b[0;32m/usr/local/lib/python3.7/dist-packages/sympy/integrals/integrals.py\u001b[0m in \u001b[0;36mintegrate\u001b[0;34m(meijerg, conds, risch, heurisch, manual, *args, **kwargs)\u001b[0m\n\u001b[1;32m   1539\u001b[0m         \u001b[0;34m'manual'\u001b[0m\u001b[0;34m:\u001b[0m \u001b[0mmanual\u001b[0m\u001b[0;34m\u001b[0m\u001b[0;34m\u001b[0m\u001b[0m\n\u001b[1;32m   1540\u001b[0m         }\n\u001b[0;32m-> 1541\u001b[0;31m     \u001b[0mintegral\u001b[0m \u001b[0;34m=\u001b[0m \u001b[0mIntegral\u001b[0m\u001b[0;34m(\u001b[0m\u001b[0;34m*\u001b[0m\u001b[0margs\u001b[0m\u001b[0;34m,\u001b[0m \u001b[0;34m**\u001b[0m\u001b[0mkwargs\u001b[0m\u001b[0;34m)\u001b[0m\u001b[0;34m\u001b[0m\u001b[0;34m\u001b[0m\u001b[0m\n\u001b[0m\u001b[1;32m   1542\u001b[0m \u001b[0;34m\u001b[0m\u001b[0m\n\u001b[1;32m   1543\u001b[0m     \u001b[0;32mif\u001b[0m \u001b[0misinstance\u001b[0m\u001b[0;34m(\u001b[0m\u001b[0mintegral\u001b[0m\u001b[0;34m,\u001b[0m \u001b[0mIntegral\u001b[0m\u001b[0;34m)\u001b[0m\u001b[0;34m:\u001b[0m\u001b[0;34m\u001b[0m\u001b[0;34m\u001b[0m\u001b[0m\n",
            "\u001b[0;32m/usr/local/lib/python3.7/dist-packages/sympy/integrals/integrals.py\u001b[0m in \u001b[0;36m__new__\u001b[0;34m(cls, function, *symbols, **assumptions)\u001b[0m\n\u001b[1;32m     85\u001b[0m                 useinstead=\"the as_expr or integrate methods of Poly\").warn()\n\u001b[1;32m     86\u001b[0m \u001b[0;34m\u001b[0m\u001b[0m\n\u001b[0;32m---> 87\u001b[0;31m         \u001b[0mobj\u001b[0m \u001b[0;34m=\u001b[0m \u001b[0mAddWithLimits\u001b[0m\u001b[0;34m.\u001b[0m\u001b[0m__new__\u001b[0m\u001b[0;34m(\u001b[0m\u001b[0mcls\u001b[0m\u001b[0;34m,\u001b[0m \u001b[0mfunction\u001b[0m\u001b[0;34m,\u001b[0m \u001b[0;34m*\u001b[0m\u001b[0msymbols\u001b[0m\u001b[0;34m,\u001b[0m \u001b[0;34m**\u001b[0m\u001b[0massumptions\u001b[0m\u001b[0;34m)\u001b[0m\u001b[0;34m\u001b[0m\u001b[0;34m\u001b[0m\u001b[0m\n\u001b[0m\u001b[1;32m     88\u001b[0m         \u001b[0;32mreturn\u001b[0m \u001b[0mobj\u001b[0m\u001b[0;34m\u001b[0m\u001b[0;34m\u001b[0m\u001b[0m\n\u001b[1;32m     89\u001b[0m \u001b[0;34m\u001b[0m\u001b[0m\n",
            "\u001b[0;32m/usr/local/lib/python3.7/dist-packages/sympy/concrete/expr_with_limits.py\u001b[0m in \u001b[0;36m__new__\u001b[0;34m(cls, function, *symbols, **assumptions)\u001b[0m\n\u001b[1;32m    492\u001b[0m \u001b[0;34m\u001b[0m\u001b[0m\n\u001b[1;32m    493\u001b[0m     \u001b[0;32mdef\u001b[0m \u001b[0m__new__\u001b[0m\u001b[0;34m(\u001b[0m\u001b[0mcls\u001b[0m\u001b[0;34m,\u001b[0m \u001b[0mfunction\u001b[0m\u001b[0;34m,\u001b[0m \u001b[0;34m*\u001b[0m\u001b[0msymbols\u001b[0m\u001b[0;34m,\u001b[0m \u001b[0;34m**\u001b[0m\u001b[0massumptions\u001b[0m\u001b[0;34m)\u001b[0m\u001b[0;34m:\u001b[0m\u001b[0;34m\u001b[0m\u001b[0;34m\u001b[0m\u001b[0m\n\u001b[0;32m--> 494\u001b[0;31m         \u001b[0mpre\u001b[0m \u001b[0;34m=\u001b[0m \u001b[0m_common_new\u001b[0m\u001b[0;34m(\u001b[0m\u001b[0mcls\u001b[0m\u001b[0;34m,\u001b[0m \u001b[0mfunction\u001b[0m\u001b[0;34m,\u001b[0m \u001b[0;34m*\u001b[0m\u001b[0msymbols\u001b[0m\u001b[0;34m,\u001b[0m \u001b[0;34m**\u001b[0m\u001b[0massumptions\u001b[0m\u001b[0;34m)\u001b[0m\u001b[0;34m\u001b[0m\u001b[0;34m\u001b[0m\u001b[0m\n\u001b[0m\u001b[1;32m    495\u001b[0m         \u001b[0;32mif\u001b[0m \u001b[0mtype\u001b[0m\u001b[0;34m(\u001b[0m\u001b[0mpre\u001b[0m\u001b[0;34m)\u001b[0m \u001b[0;32mis\u001b[0m \u001b[0mtuple\u001b[0m\u001b[0;34m:\u001b[0m\u001b[0;34m\u001b[0m\u001b[0;34m\u001b[0m\u001b[0m\n\u001b[1;32m    496\u001b[0m             \u001b[0mfunction\u001b[0m\u001b[0;34m,\u001b[0m \u001b[0mlimits\u001b[0m\u001b[0;34m,\u001b[0m \u001b[0morientation\u001b[0m \u001b[0;34m=\u001b[0m \u001b[0mpre\u001b[0m\u001b[0;34m\u001b[0m\u001b[0;34m\u001b[0m\u001b[0m\n",
            "\u001b[0;32m/usr/local/lib/python3.7/dist-packages/sympy/concrete/expr_with_limits.py\u001b[0m in \u001b[0;36m_common_new\u001b[0;34m(cls, function, *symbols, **assumptions)\u001b[0m\n\u001b[1;32m     56\u001b[0m         \u001b[0;32mif\u001b[0m \u001b[0mlen\u001b[0m\u001b[0;34m(\u001b[0m\u001b[0mfree\u001b[0m\u001b[0;34m)\u001b[0m \u001b[0;34m!=\u001b[0m \u001b[0;36m1\u001b[0m\u001b[0;34m:\u001b[0m\u001b[0;34m\u001b[0m\u001b[0;34m\u001b[0m\u001b[0m\n\u001b[1;32m     57\u001b[0m             raise ValueError(\n\u001b[0;32m---> 58\u001b[0;31m                 \"specify dummy variables for %s\" % function)\n\u001b[0m\u001b[1;32m     59\u001b[0m         \u001b[0mlimits\u001b[0m\u001b[0;34m,\u001b[0m \u001b[0morientation\u001b[0m \u001b[0;34m=\u001b[0m \u001b[0;34m[\u001b[0m\u001b[0mTuple\u001b[0m\u001b[0;34m(\u001b[0m\u001b[0ms\u001b[0m\u001b[0;34m)\u001b[0m \u001b[0;32mfor\u001b[0m \u001b[0ms\u001b[0m \u001b[0;32min\u001b[0m \u001b[0mfree\u001b[0m\u001b[0;34m]\u001b[0m\u001b[0;34m,\u001b[0m \u001b[0;36m1\u001b[0m\u001b[0;34m\u001b[0m\u001b[0;34m\u001b[0m\u001b[0m\n\u001b[1;32m     60\u001b[0m \u001b[0;34m\u001b[0m\u001b[0m\n",
            "\u001b[0;31mValueError\u001b[0m: specify dummy variables for x*y"
          ]
        }
      ]
    },
    {
      "cell_type": "code",
      "source": [
        "\n",
        "integrate(x*y, y)"
      ],
      "metadata": {
        "colab": {
          "base_uri": "https://localhost:8080/",
          "height": 53
        },
        "id": "n9l9h8tAnAKi",
        "outputId": "d72be31e-ea66-4714-e4c2-0937a944376c"
      },
      "execution_count": 39,
      "outputs": [
        {
          "output_type": "execute_result",
          "data": {
            "text/plain": [
              "   2\n",
              "x⋅y \n",
              "────\n",
              " 2  "
            ],
            "image/png": "[encoded data removed]",
            "text/latex": "$\\displaystyle \\frac{x y^{2}}{2}$"
          },
          "metadata": {},
          "execution_count": 39
        }
      ]
    },
    {
      "cell_type": "code",
      "source": [
        "integrate(x**a*exp(-x), (x, 0, oo)) # same as conds='piecewise'\n",
        "\n",
        "###Piecewise((gamma(a + 1), re(a) > -1), (Integral(x**a*exp(-x), (x, 0, oo)), True))"
      ],
      "metadata": {
        "colab": {
          "base_uri": "https://localhost:8080/",
          "height": 82
        },
        "id": "MFQLoYu1nGhZ",
        "outputId": "655d214a-a385-417c-f29c-0a08aff179c7"
      },
      "execution_count": 40,
      "outputs": [
        {
          "output_type": "execute_result",
          "data": {
            "text/plain": [
              "⎧ Γ(a + 1)    for re(a) > -1\n",
              "⎪                           \n",
              "⎪∞                          \n",
              "⎪⌠                          \n",
              "⎨⎮  a  -x                   \n",
              "⎪⎮ x ⋅ℯ   dx    otherwise   \n",
              "⎪⌡                          \n",
              "⎪0                          \n",
              "⎩                           "
            ],
            "text/latex": "$\\displaystyle \\begin{cases} \\Gamma\\left(a + 1\\right) & \\text{for}\\: \\operatorname{re}{\\left(a\\right)} > -1 \\\\\\int\\limits_{0}^{\\infty} x^{a} e^{- x}\\, dx & \\text{otherwise} \\end{cases}$"
          },
          "metadata": {},
          "execution_count": 40
        }
      ]
    },
    {
      "cell_type": "code",
      "source": [
        "integrate(x**a*exp(-x), (x, 0, oo), conds='none')\n",
        "### gamma(a + 1)"
      ],
      "metadata": {
        "colab": {
          "base_uri": "https://localhost:8080/",
          "height": 38
        },
        "id": "cEX9Db5InkNd",
        "outputId": "4531412e-6ec6-4524-80aa-c01f8d0977e3"
      },
      "execution_count": 41,
      "outputs": [
        {
          "output_type": "execute_result",
          "data": {
            "text/plain": [
              "Γ(a + 1)"
            ],
            "image/png": "[encoded data removed]",
            "text/latex": "$\\displaystyle \\Gamma\\left(a + 1\\right)$"
          },
          "metadata": {},
          "execution_count": 41
        }
      ]
    },
    {
      "cell_type": "code",
      "source": [
        "integrate(x**a*exp(-x), (x, 0, oo), conds='separate')\n",
        "### (gamma(a + 1), re(a) > -1)"
      ],
      "metadata": {
        "colab": {
          "base_uri": "https://localhost:8080/",
          "height": 38
        },
        "id": "Hi1mBuJLn4vP",
        "outputId": "723c29b6-7da9-45f4-c86a-c4b170af474f"
      },
      "execution_count": 42,
      "outputs": [
        {
          "output_type": "execute_result",
          "data": {
            "text/plain": [
              "(Γ(a + 1), -re(a) < 1)"
            ],
            "image/png": "[encoded data removed]",
            "text/latex": "$\\displaystyle \\left( \\Gamma\\left(a + 1\\right), \\  - \\operatorname{re}{\\left(a\\right)} < 1\\right)$"
          },
          "metadata": {},
          "execution_count": 42
        }
      ]
    },
    {
      "cell_type": "code",
      "source": [
        "from sympy import Curve, line_integrate, E, ln\n",
        "from sympy.abc import x, y, t\n",
        "C = Curve([E**t + 1, E**t - 1], (t, 0, ln(2)))\n",
        "C"
      ],
      "metadata": {
        "colab": {
          "base_uri": "https://localhost:8080/",
          "height": 38
        },
        "id": "py3n09NhoNJP",
        "outputId": "e4de4095-615a-4273-a7ae-0badd22587c8"
      },
      "execution_count": 43,
      "outputs": [
        {
          "output_type": "execute_result",
          "data": {
            "text/plain": [
              "Curve((exp(t) + 1, exp(t) - 1), (t, 0, log(2)))"
            ],
            "image/png": "[encoded data removed]",
            "text/latex": "$\\displaystyle Curve\\left(\\left( e^{t} + 1, \\  e^{t} - 1\\right), \\left( t, \\  0, \\  \\log{\\left(2 \\right)}\\right)\\right)$"
          },
          "metadata": {},
          "execution_count": 43
        }
      ]
    },
    {
      "cell_type": "code",
      "source": [
        "line_integrate(x + y, C, [x, y])\n",
        "### 3*sqrt(2)"
      ],
      "metadata": {
        "colab": {
          "base_uri": "https://localhost:8080/",
          "height": 38
        },
        "id": "BiB6GHXToiUU",
        "outputId": "86549fd3-e6fc-4bc1-f985-f696bb88115c"
      },
      "execution_count": 48,
      "outputs": [
        {
          "output_type": "execute_result",
          "data": {
            "text/plain": [
              "3⋅√2"
            ],
            "image/png": "[encoded data removed]",
            "text/latex": "$\\displaystyle 3 \\sqrt{2}$"
          },
          "metadata": {},
          "execution_count": 48
        }
      ]
    },
    {
      "cell_type": "code",
      "source": [
        ""
      ],
      "metadata": {
        "id": "Tt_Onc5ApxNg"
      },
      "execution_count": null,
      "outputs": []
    },
    {
      "cell_type": "markdown",
      "source": [
        "**The class Integral represents an unevaluated integral and has some methods that help in the integration of an expression.**\n",
        "\n",
        "#class sympy.integrals.integrals.Integral(function, *symbols, **assumptions)[source]\n",
        "Represents unevaluated integral.\n",
        "\n",
        "##is_commutative\n",
        "Returns whether all the free symbols in the integral are commutative.\n",
        "\n",
        "## as_sum(n=None, method='midpoint', evaluate=True)[source]\n",
        "Approximates a definite integral by a sum.\n",
        "\n",
        "### Parameters\n",
        "n :\n",
        "\n",
        "The number of subintervals to use, optional.\n",
        "\n",
        "method :\n",
        "\n",
        "One of: ‘left’, ‘right’, ‘midpoint’, ‘trapezoid’.\n",
        "\n",
        "evaluate : bool\n",
        "\n",
        "If False, returns an unevaluated Sum expression. The default is True, evaluate the sum.\n",
        "\n",
        "Notes\n",
        "\n",
        "These methods of approximate integration are described in [1].\n",
        "\n",
        "Examples\n",
        "\n",
        "Run code block in SymPy Live\n",
        "from sympy import Integral, sin, sqrt\n",
        "from sympy.abc import x, n\n",
        "e = Integral(sin(x), (x, 3, 7))\n",
        "e\n",
        "Integral(sin(x), (x, 3, 7))\n",
        "For demonstration purposes, this interval will only be split into 2 regions, bounded by [3, 5] and [5, 7].\n",
        "\n",
        "The left-hand rule uses function evaluations at the left of each interval:\n",
        "\n",
        "Run code block in SymPy Live\n",
        "e.as_sum(2, 'left')\n",
        "2*sin(5) + 2*sin(3)\n",
        "The midpoint rule uses evaluations at the center of each interval:\n",
        "\n",
        "Run code block in SymPy Live\n",
        "e.as_sum(2, 'midpoint')\n",
        "2*sin(4) + 2*sin(6)\n",
        "The right-hand rule uses function evaluations at the right of each interval:\n",
        "\n",
        "Run code block in SymPy Live\n",
        "e.as_sum(2, 'right')\n",
        "2*sin(5) + 2*sin(7)\n",
        "The trapezoid rule uses function evaluations on both sides of the intervals. This is equivalent to taking the average of the left and right hand rule results:\n",
        "\n",
        "Run code block in SymPy Live\n",
        "e.as_sum(2, 'trapezoid')\n",
        "2*sin(5) + sin(3) + sin(7)\n",
        "(e.as_sum(2, 'left') + e.as_sum(2, 'right'))/2 == _\n",
        "True\n",
        "Here, the discontinuity at x = 0 can be avoided by using the midpoint or right-hand method:\n",
        "\n",
        "Run code block in SymPy Live\n",
        "e = Integral(1/sqrt(x), (x, 0, 1))\n",
        "e.as_sum(5).n(4)\n",
        "1.730\n",
        "e.as_sum(10).n(4)\n",
        "1.809\n",
        "e.doit().n(4)  # the actual value is 2\n",
        "2.000\n",
        "The left- or trapezoid method will encounter the discontinuity and return infinity:\n",
        "\n",
        "Run code block in SymPy Live\n",
        "e.as_sum(5, 'left')\n",
        "zoo\n",
        "The number of intervals can be symbolic. If omitted, a dummy symbol will be used for it.\n",
        "\n",
        "Run code block in SymPy Live\n",
        "e = Integral(x**2, (x, 0, 2))\n",
        "e.as_sum(n, 'right').expand()\n",
        "8/3 + 4/n + 4/(3*n**2)\n",
        "This shows that the midpoint rule is more accurate, as its error term decays as the square of n:\n",
        "\n",
        "Run code block in SymPy Live\n",
        "e.as_sum(method='midpoint').expand()\n",
        "8/3 - 2/(3*_n**2)\n",
        "A symbolic sum is returned with evaluate=False:\n",
        "\n",
        "Run code block in SymPy Live\n",
        "e.as_sum(n, 'midpoint', evaluate=False)\n",
        "2*Sum((2*_k/n - 1/n)**2, (_k, 1, n))/n  \n",
        "\n",
        "\n",
        "## References\n",
        "\n",
        "### R527\n",
        "https://en.wikipedia.org/wiki/Riemann_sum#Methods\n"
      ],
      "metadata": {
        "id": "im00xzC9jbqR"
      }
    },
    {
      "cell_type": "code",
      "source": [
        "from sympy import Integral, sin, sqrt\n",
        "from sympy.abc import x, n\n",
        "e = Integral(sin(x), (x, 3, 7))\n",
        "e\n",
        "### Integral(sin(x), (x, 3, 7))"
      ],
      "metadata": {
        "colab": {
          "base_uri": "https://localhost:8080/",
          "height": 80
        },
        "id": "INfRiZjiqlcZ",
        "outputId": "e40fc65a-8efa-4b39-9def-ddb219e0d609"
      },
      "execution_count": 49,
      "outputs": [
        {
          "output_type": "execute_result",
          "data": {
            "text/plain": [
              "7          \n",
              "⌠          \n",
              "⎮ sin(x) dx\n",
              "⌡          \n",
              "3          "
            ],
            "image/png": "[encoded data removed]",
            "text/latex": "$\\displaystyle \\int\\limits_{3}^{7} \\sin{\\left(x \\right)}\\, dx$"
          },
          "metadata": {},
          "execution_count": 49
        }
      ]
    },
    {
      "cell_type": "markdown",
      "source": [
        "### For demonstration purposes, this interval will only be split into 2 regions, bounded by [3, 5] and [5, 7].\n",
        "\n",
        "The left-hand rule uses function evaluations at the left of each interval:"
      ],
      "metadata": {
        "id": "-FEWJGX8tHNt"
      }
    },
    {
      "cell_type": "code",
      "source": [
        "e.as_sum(2, 'left')\n",
        "\n",
        "## 2*sin(5) + 2*sin(3)"
      ],
      "metadata": {
        "colab": {
          "base_uri": "https://localhost:8080/",
          "height": 37
        },
        "id": "KVvInG1ultmE",
        "outputId": "f7bdea42-f954-47ca-f0e1-b87be67b0363"
      },
      "execution_count": 50,
      "outputs": [
        {
          "output_type": "execute_result",
          "data": {
            "text/plain": [
              "2⋅sin(5) + 2⋅sin(3)"
            ],
            "image/png": "[encoded data removed]",
            "text/latex": "$\\displaystyle 2 \\sin{\\left(5 \\right)} + 2 \\sin{\\left(3 \\right)}$"
          },
          "metadata": {},
          "execution_count": 50
        }
      ]
    },
    {
      "cell_type": "code",
      "source": [
        "e.as_sum(2, 'midpoint')\n",
        "### 2*sin(4) + 2*sin(6)"
      ],
      "metadata": {
        "colab": {
          "base_uri": "https://localhost:8080/",
          "height": 37
        },
        "id": "qLIDgA4OrQEk",
        "outputId": "3210be6c-d31f-4e4c-bc6b-1fa71f9d3fcc"
      },
      "execution_count": 51,
      "outputs": [
        {
          "output_type": "execute_result",
          "data": {
            "text/plain": [
              "2⋅sin(4) + 2⋅sin(6)"
            ],
            "image/png": "[encoded data removed]",
            "text/latex": "$\\displaystyle 2 \\sin{\\left(4 \\right)} + 2 \\sin{\\left(6 \\right)}$"
          },
          "metadata": {},
          "execution_count": 51
        }
      ]
    },
    {
      "cell_type": "code",
      "source": [
        "e.as_sum(2, 'right')\n",
        "### 2*sin(5) + 2*sin(7)"
      ],
      "metadata": {
        "colab": {
          "base_uri": "https://localhost:8080/",
          "height": 37
        },
        "id": "DXqVtzfirja0",
        "outputId": "4cef8762-f7df-45da-d39f-81a998407e2b"
      },
      "execution_count": 52,
      "outputs": [
        {
          "output_type": "execute_result",
          "data": {
            "text/plain": [
              "2⋅sin(5) + 2⋅sin(7)"
            ],
            "image/png": "[encoded data removed]",
            "text/latex": "$\\displaystyle 2 \\sin{\\left(5 \\right)} + 2 \\sin{\\left(7 \\right)}$"
          },
          "metadata": {},
          "execution_count": 52
        }
      ]
    },
    {
      "cell_type": "code",
      "source": [
        "e.as_sum(2, 'trapezoid')\n",
        "### 2*sin(5) + sin(3) + sin(7)\n"
      ],
      "metadata": {
        "colab": {
          "base_uri": "https://localhost:8080/",
          "height": 37
        },
        "id": "7gcdssyWtO7O",
        "outputId": "c129bd5b-a550-49b8-f236-f358cc25adb0"
      },
      "execution_count": 53,
      "outputs": [
        {
          "output_type": "execute_result",
          "data": {
            "text/plain": [
              "2⋅sin(5) + sin(3) + sin(7)"
            ],
            "image/png": "[encoded data removed]",
            "text/latex": "$\\displaystyle 2 \\sin{\\left(5 \\right)} + \\sin{\\left(3 \\right)} + \\sin{\\left(7 \\right)}$"
          },
          "metadata": {},
          "execution_count": 53
        }
      ]
    },
    {
      "cell_type": "code",
      "source": [
        "(e.as_sum(2, 'left') + e.as_sum(2, 'right'))/2 == _\n",
        "### True"
      ],
      "metadata": {
        "colab": {
          "base_uri": "https://localhost:8080/"
        },
        "id": "4NrmYNcntcUj",
        "outputId": "eb734b7e-459f-47c2-8b3c-de7d0527a76c"
      },
      "execution_count": 54,
      "outputs": [
        {
          "output_type": "execute_result",
          "data": {
            "text/plain": [
              "True"
            ]
          },
          "metadata": {},
          "execution_count": 54
        }
      ]
    },
    {
      "cell_type": "code",
      "source": [
        "e = Integral(1/sqrt(x), (x, 0, 1))\n",
        "s1 = e.as_sum(5).n(4)\n",
        "##1.730\n",
        "s2 = e.as_sum(10).n(4)\n",
        "### 1.809\n",
        "as1 = e.doit().n(4)  # the actual value is 2\n",
        "### 2.000\n",
        "\n",
        "print(s1, s2, as1)"
      ],
      "metadata": {
        "colab": {
          "base_uri": "https://localhost:8080/"
        },
        "id": "z_WDa5e-tgw8",
        "outputId": "dde652ec-f766-45ac-c351-dda532aaf673"
      },
      "execution_count": 55,
      "outputs": [
        {
          "output_type": "stream",
          "name": "stdout",
          "text": [
            "1.730 1.809 2.000\n"
          ]
        }
      ]
    },
    {
      "cell_type": "code",
      "source": [
        "e"
      ],
      "metadata": {
        "colab": {
          "base_uri": "https://localhost:8080/",
          "height": 80
        },
        "id": "73oSXIb5uDcu",
        "outputId": "913daf6a-5b68-4081-f6a8-0e8d59edcf45"
      },
      "execution_count": 56,
      "outputs": [
        {
          "output_type": "execute_result",
          "data": {
            "text/plain": [
              "1      \n",
              "⌠      \n",
              "⎮ 1    \n",
              "⎮ ── dx\n",
              "⎮ √x   \n",
              "⌡      \n",
              "0      "
            ],
            "image/png": "[encoded data removed]",
            "text/latex": "$\\displaystyle \\int\\limits_{0}^{1} \\frac{1}{\\sqrt{x}}\\, dx$"
          },
          "metadata": {},
          "execution_count": 56
        }
      ]
    },
    {
      "cell_type": "code",
      "source": [
        "e.as_sum(5, 'left')\n",
        "#zoo"
      ],
      "metadata": {
        "colab": {
          "base_uri": "https://localhost:8080/",
          "height": 37
        },
        "id": "oTZRJQO6uI9N",
        "outputId": "eeefe75e-475d-4622-baa6-e7e72bfbc850"
      },
      "execution_count": 57,
      "outputs": [
        {
          "output_type": "execute_result",
          "data": {
            "text/plain": [
              "zoo"
            ],
            "image/png": "[encoded data removed]",
            "text/latex": "$\\displaystyle \\tilde{\\infty}$"
          },
          "metadata": {},
          "execution_count": 57
        }
      ]
    },
    {
      "cell_type": "code",
      "source": [
        "e = Integral(x**2, (x, 0, 2))\n",
        "e.as_sum(n, 'right').expand()\n",
        "### 8/3 + 4/n + 4/(3*n**2)"
      ],
      "metadata": {
        "colab": {
          "base_uri": "https://localhost:8080/",
          "height": 50
        },
        "id": "TYLbER0Ouw-P",
        "outputId": "954cf9ad-0817-43ee-89ff-85ecdc1e257f"
      },
      "execution_count": 58,
      "outputs": [
        {
          "output_type": "execute_result",
          "data": {
            "text/plain": [
              "8   4    4  \n",
              "─ + ─ + ────\n",
              "3   n      2\n",
              "        3⋅n "
            ],
            "image/png": "[encoded data removed]",
            "text/latex": "$\\displaystyle \\frac{8}{3} + \\frac{4}{n} + \\frac{4}{3 n^{2}}$"
          },
          "metadata": {},
          "execution_count": 58
        }
      ]
    },
    {
      "cell_type": "code",
      "source": [
        "e"
      ],
      "metadata": {
        "colab": {
          "base_uri": "https://localhost:8080/",
          "height": 80
        },
        "id": "8hFTbJvlu3o7",
        "outputId": "bc48f52b-db58-4f5d-9b09-bf54f1823264"
      },
      "execution_count": 59,
      "outputs": [
        {
          "output_type": "execute_result",
          "data": {
            "text/plain": [
              "2      \n",
              "⌠      \n",
              "⎮  2   \n",
              "⎮ x  dx\n",
              "⌡      \n",
              "0      "
            ],
            "image/png": "[encoded data removed]",
            "text/latex": "$\\displaystyle \\int\\limits_{0}^{2} x^{2}\\, dx$"
          },
          "metadata": {},
          "execution_count": 59
        }
      ]
    },
    {
      "cell_type": "code",
      "source": [
        "e.as_sum(method='midpoint').expand()\n",
        "### 8/3 - 2/(3*_n**2)"
      ],
      "metadata": {
        "colab": {
          "base_uri": "https://localhost:8080/",
          "height": 50
        },
        "id": "pYGbH15awGWP",
        "outputId": "c83edfd6-d083-4aa8-d2c2-8cd3ac059dc6"
      },
      "execution_count": 60,
      "outputs": [
        {
          "output_type": "execute_result",
          "data": {
            "text/plain": [
              "8    2  \n",
              "─ - ────\n",
              "3      2\n",
              "    3⋅n "
            ],
            "image/png": "[encoded data removed]",
            "text/latex": "$\\displaystyle \\frac{8}{3} - \\frac{2}{3 n^{2}}$"
          },
          "metadata": {},
          "execution_count": 60
        }
      ]
    },
    {
      "cell_type": "code",
      "source": [
        "e.as_sum(n, 'midpoint', evaluate=False)\n",
        "### 2*Sum((2*_k/n - 1/n)**2, (_k, 1, n))/n"
      ],
      "metadata": {
        "colab": {
          "base_uri": "https://localhost:8080/",
          "height": 60
        },
        "id": "eRDCPtOWwVW2",
        "outputId": "61492adf-efbf-48ff-e246-4d1c2fa79244"
      },
      "execution_count": 61,
      "outputs": [
        {
          "output_type": "execute_result",
          "data": {
            "text/plain": [
              "    n             \n",
              "   ____           \n",
              "   ╲              \n",
              "    ╲            2\n",
              "     ╲  ⎛2⋅k   1⎞ \n",
              "2⋅   ╱  ⎜─── - ─⎟ \n",
              "    ╱   ⎝ n    n⎠ \n",
              "   ╱              \n",
              "   ‾‾‾‾           \n",
              "  k = 1           \n",
              "──────────────────\n",
              "        n         "
            ],
            "image/png": "[encoded data removed]",
            "text/latex": "$\\displaystyle \\frac{2 \\sum_{k=1}^{n} \\left(\\frac{2 k}{n} - \\frac{1}{n}\\right)^{2}}{n}$"
          },
          "metadata": {},
          "execution_count": 61
        }
      ]
    },
    {
      "cell_type": "markdown",
      "source": [
        "# sympy.integrals.manualintegrate.manualintegrate(f, var)[source]\n",
        "\n",
        "## Explanation\n",
        "\n",
        "**Compute indefinite integral of a single variable using an algorithm that resembles what a student would do by hand.**\n",
        "\n",
        "**Unlike integrate(), var can only be a single symbol.**\n",
        "\n",
        "### Examples\n",
        "\n",
        "Run code block in SymPy Live\n",
        "from sympy import sin, cos, tan, exp, log, integrate\n",
        "from sympy.integrals.manualintegrate import manualintegrate\n",
        "from sympy.abc import x\n",
        "manualintegrate(1 / x, x)\n",
        "log(x)\n",
        "integrate(1/x)\n",
        "log(x)\n",
        "manualintegrate(log(x), x)\n",
        "x*log(x) - x\n",
        "integrate(log(x))\n",
        "x*log(x) - x\n",
        "manualintegrate(exp(x) / (1 + exp(2 * x)), x)\n",
        "atan(exp(x))\n",
        "integrate(exp(x) / (1 + exp(2 * x)))\n",
        "RootSum(4*_z**2 + 1, Lambda(_i, _i*log(2*_i + exp(x))))\n",
        "manualintegrate(cos(x)**4 * sin(x), x)\n",
        "-cos(x)**5/5\n",
        "integrate(cos(x)**4 * sin(x), x)\n",
        "-cos(x)**5/5\n",
        "manualintegrate(cos(x)**4 * sin(x)**3, x)\n",
        "cos(x)**7/7 - cos(x)**5/5\n",
        "integrate(cos(x)**4 * sin(x)**3, x)\n",
        "cos(x)**7/7 - cos(x)**5/5\n",
        "manualintegrate(tan(x), x)\n",
        "-log(cos(x))\n",
        "integrate(tan(x), x)\n",
        "-log(cos(x))\n",
        "See also sympy.integrals.integrals.integrate, sympy.integrals.integrals.Integral.doit, sympy.integrals.integrals.Integral\n",
        "sympy.integrals.manualintegrate.integral_steps(integrand, symbol, **options)[source]\n",
        "Returns the steps needed to compute an integral.\n",
        "\n",
        "Returns\n",
        "rule : namedtuple\n",
        "\n",
        "The first step; most rules have substeps that must also be considered. These substeps can be evaluated using manualintegrate to obtain a result.\n",
        "\n",
        "Explanation\n",
        "\n",
        "This function attempts to mirror what a student would do by hand as closely as possible.\n",
        "\n",
        "SymPy Gamma uses this to provide a step-by-step explanation of an integral. The code it uses to format the results of this function can be found at https://github.com/sympy/sympy_gamma/blob/master/app/logic/intsteps.py.\n",
        "\n",
        "Examples\n",
        "\n",
        "Run code block in SymPy Live\n",
        "from sympy import exp, sin\n",
        "from sympy.integrals.manualintegrate import integral_steps\n",
        "from sympy.abc import x\n",
        "print(repr(integral_steps(exp(x) / (1 + exp(2 * x)), x)))     \n",
        "URule(u_var=_u, u_func=exp(x), constant=1,\n",
        "substep=PiecewiseRule(subfunctions=[(ArctanRule(a=1, b=1, c=1, context=1/(_u**2 + 1), symbol=_u), True),\n",
        "    (ArccothRule(a=1, b=1, c=1, context=1/(_u**2 + 1), symbol=_u), False),\n",
        "    (ArctanhRule(a=1, b=1, c=1, context=1/(_u**2 + 1), symbol=_u), False)],\n",
        "context=1/(_u**2 + 1), symbol=_u), context=exp(x)/(exp(2*x) + 1), symbol=x)\n",
        "print(repr(integral_steps(sin(x), x)))     \n",
        "TrigRule(func='sin', arg=x, context=sin(x), symbol=x)\n",
        "print(repr(integral_steps((x**2 + 3)**2, x)))     \n",
        "RewriteRule(rewritten=x**4 + 6*x**2 + 9,\n",
        "substep=AddRule(substeps=[PowerRule(base=x, exp=4, context=x**4, symbol=x),\n",
        "    ConstantTimesRule(constant=6, other=x**2,\n",
        "        substep=PowerRule(base=x, exp=2, context=x**2, symbol=x),\n",
        "            context=6*x**2, symbol=x),\n",
        "    ConstantRule(constant=9, context=9, symbol=x)],\n",
        "context=x**4 + 6*x**2 + 9, symbol=x), context=(x**2 + 3)**2, symbol=x)\n",
        "Finally, if all the above fail, SymPy also uses a simplified version of the Risch algorithm, called the Risch-Norman algorithm. This algorithm is tried last because it is often the slowest to compute. This is implemented in heurisch():\n",
        "\n",
        "sympy.integrals.heurisch.heurisch(f, x, rewrite=False, hints=None, mappings=None, retries=3, degree_offset=0, unnecessary_permutations=None, _try_heurisch=None)[source]\n",
        "Compute indefinite integral using heuristic Risch algorithm.\n",
        "\n",
        "Explanation\n",
        "\n",
        "This is a heuristic approach to indefinite integration in finite terms using the extended heuristic (parallel) Risch algorithm, based on Manuel Bronstein’s “Poor Man’s Integrator”.\n",
        "\n",
        "The algorithm supports various classes of functions including transcendental elementary or special functions like Airy, Bessel, Whittaker and Lambert.\n",
        "\n",
        "Note that this algorithm is not a decision procedure. If it isn’t able to compute the antiderivative for a given function, then this is not a proof that such a functions does not exist. One should use recursive Risch algorithm in such case. It’s an open question if this algorithm can be made a full decision procedure.\n",
        "\n",
        "This is an internal integrator procedure. You should use top level ‘integrate’ function in most cases, as this procedure needs some preprocessing steps and otherwise may fail.\n",
        "\n",
        "Specification\n",
        "\n",
        "heurisch(f, x, rewrite=False, hints=None)\n",
        "\n",
        "where\n",
        "f : expression x : symbol\n",
        "\n",
        "rewrite -> force rewrite ‘f’ in terms of ‘tan’ and ‘tanh’ hints -> a list of functions that may appear in anti-derivate\n",
        "\n",
        "hints = None –> no suggestions at all\n",
        "\n",
        "hints = [ ] –> try to figure out\n",
        "\n",
        "hints = [f1, …, fn] –> we know better\n",
        "\n",
        "Examples\n",
        "\n",
        "Run code block in SymPy Live\n",
        "from sympy import tan\n",
        "from sympy.integrals.heurisch import heurisch\n",
        "from sympy.abc import x, y\n",
        "Run code block in SymPy Live\n",
        "heurisch(y*tan(x), x)\n",
        "y*log(tan(x)**2 + 1)/2\n",
        "See Manuel Bronstein’s “Poor Man’s Integrator”:\n",
        "\n",
        "See also sympy.integrals.integrals.Integral.doit, sympy.integrals.integrals.Integral, sympy.integrals.heurisch.components\n",
        "References\n",
        "\n",
        "### R522\n",
        "http://www-sop.inria.fr/cafe/Manuel.Bronstein/pmint/index.html\n",
        "\n",
        "For more information on the implemented algorithm refer to:\n",
        "\n",
        "### R523\n",
        "K. Geddes, L. Stefanus, On the Risch-Norman Integration Method and its Implementation in Maple, Proceedings of ISSAC’89, ACM Press, 212-217.\n",
        "\n",
        "### R524\n",
        "J. H. Davenport, On the Parallel Risch Algorithm (I), Proceedings of EUROCAM’82, LNCS 144, Springer, 144-157.\n",
        "\n",
        "### R525\n",
        "J. H. Davenport, On the Parallel Risch Algorithm (III): Use of Tangents, SIGSAM Bulletin 16 (1982), 3-6.\n",
        "\n",
        "### R526\n",
        "J. H. Davenport, B. M. Trager, On the Parallel Risch Algorithm (II), ACM Transactions on Mathematical Software 11 (1985), 356-362."
      ],
      "metadata": {
        "id": "jNO6xB5_jcCW"
      }
    },
    {
      "cell_type": "code",
      "source": [
        "from sympy import sin, cos, tan, exp, log, integrate\n",
        "from sympy.integrals.manualintegrate import manualintegrate\n",
        "from sympy.abc import x\n",
        "\n",
        "manualintegrate(1 / x, x)\n",
        "## log(x)"
      ],
      "metadata": {
        "colab": {
          "base_uri": "https://localhost:8080/",
          "height": 38
        },
        "id": "Z80-GXZexlD4",
        "outputId": "c4bf482b-d4a7-40f8-c23a-fc98ad49a5f6"
      },
      "execution_count": 2,
      "outputs": [
        {
          "output_type": "execute_result",
          "data": {
            "text/plain": [
              "log(x)"
            ],
            "text/latex": "$\\displaystyle \\log{\\left(x \\right)}$"
          },
          "metadata": {},
          "execution_count": 2
        }
      ]
    },
    {
      "cell_type": "code",
      "source": [
        "integrate(1 / x)\n"
      ],
      "metadata": {
        "colab": {
          "base_uri": "https://localhost:8080/",
          "height": 38
        },
        "id": "i6GnrdGHxyQu",
        "outputId": "faa03d35-802b-400f-b916-8beaedd36fdb"
      },
      "execution_count": 64,
      "outputs": [
        {
          "output_type": "execute_result",
          "data": {
            "text/plain": [
              "log(x)"
            ],
            "image/png": "[encoded data removed]",
            "text/latex": "$\\displaystyle \\log{\\left(x \\right)}$"
          },
          "metadata": {},
          "execution_count": 64
        }
      ]
    },
    {
      "cell_type": "code",
      "source": [
        "miexp1 = manualintegrate(log(x), x)\n",
        "## x*log(x) - x\n",
        "iexp1 = integrate(log(x))\n",
        "## x*log(x) - x\n",
        "#\n",
        "miexp2 = manualintegrate(exp(x) / (1 + exp(2 * x)), x)\n",
        "## atan(exp(x))\n",
        "iexp2 = integrate(exp(x) / (1 + exp(2 * x)))\n",
        "##RootSum(4*_z**2 + 1, Lambda(_i, _i*log(2*_i + exp(x))))\n",
        "#\n",
        "miexp3 = manualintegrate(cos(x)**4 * sin(x), x)\n",
        "### -cos(x)**5/5\n",
        "iexp3 = integrate(cos(x)**4 * sin(x), x)\n",
        "### -cos(x)**5/5\n",
        "#\n",
        "miexp4 = manualintegrate(cos(x)**4 * sin(x)**3, x)\n",
        "### cos(x)**7/7 - cos(x)**5/5\n",
        "iexp4 = integrate(cos(x)**4 * sin(x)**3, x)\n",
        "### cos(x)**7/7 - cos(x)**5/5\n",
        "#\n",
        "miexp5 = manualintegrate(tan(x), x)\n",
        "### -log(cos(x))\n",
        "iexp5 = integrate(tan(x), x)\n",
        "### -log(cos(x))\n",
        "#\n",
        "print(miexp1,miexp2,miexp3,miexp4,miexp5)\n",
        "#\n",
        "print(iexp1,iexp2,iexp3,iexp4,iexp5)\n"
      ],
      "metadata": {
        "colab": {
          "base_uri": "https://localhost:8080/"
        },
        "id": "NSoEjEavD62L",
        "outputId": "b35cca0c-ad7a-43dd-8913-efc934f871c5"
      },
      "execution_count": 3,
      "outputs": [
        {
          "output_type": "stream",
          "name": "stdout",
          "text": [
            "x*log(x) - x atan(exp(x)) -cos(x)**5/5 cos(x)**7/7 - cos(x)**5/5 -log(cos(x))\n",
            "x*log(x) - x RootSum(4*_z**2 + 1, Lambda(_i, _i*log(2*_i + exp(x)))) -cos(x)**5/5 cos(x)**7/7 - cos(x)**5/5 -log(cos(x))\n"
          ]
        }
      ]
    },
    {
      "cell_type": "code",
      "source": [
        "miexp1"
      ],
      "metadata": {
        "colab": {
          "base_uri": "https://localhost:8080/",
          "height": 38
        },
        "id": "5pNQsrqyFlIw",
        "outputId": "78402ef2-f653-4f19-d0f8-5d9cefc3cdd9"
      },
      "execution_count": 6,
      "outputs": [
        {
          "output_type": "execute_result",
          "data": {
            "text/plain": [
              "x*log(x) - x"
            ],
            "text/latex": "$\\displaystyle x \\log{\\left(x \\right)} - x$"
          },
          "metadata": {},
          "execution_count": 6
        }
      ]
    },
    {
      "cell_type": "code",
      "source": [
        "miexp2"
      ],
      "metadata": {
        "colab": {
          "base_uri": "https://localhost:8080/",
          "height": 38
        },
        "id": "UFWTfz9JFyJ6",
        "outputId": "965d0f32-47b1-496d-ee44-c2d030543328"
      },
      "execution_count": 7,
      "outputs": [
        {
          "output_type": "execute_result",
          "data": {
            "text/plain": [
              "atan(exp(x))"
            ],
            "text/latex": "$\\displaystyle \\operatorname{atan}{\\left(e^{x} \\right)}$"
          },
          "metadata": {},
          "execution_count": 7
        }
      ]
    },
    {
      "cell_type": "code",
      "source": [
        "iexp2"
      ],
      "metadata": {
        "colab": {
          "base_uri": "https://localhost:8080/",
          "height": 38
        },
        "id": "th0yhFOwF3Vx",
        "outputId": "c727f86b-3884-40fd-e414-07a6c2a698dd"
      },
      "execution_count": 8,
      "outputs": [
        {
          "output_type": "execute_result",
          "data": {
            "text/plain": [
              "RootSum(4*_z**2 + 1, Lambda(_i, _i*log(2*_i + exp(x))))"
            ],
            "text/latex": "$\\displaystyle \\operatorname{RootSum} {\\left(4 z^{2} + 1, \\left( i \\mapsto i \\log{\\left(2 i + e^{x} \\right)} \\right)\\right)}$"
          },
          "metadata": {},
          "execution_count": 8
        }
      ]
    },
    {
      "cell_type": "code",
      "source": [
        "miexp3"
      ],
      "metadata": {
        "colab": {
          "base_uri": "https://localhost:8080/",
          "height": 53
        },
        "id": "LOueYB88GCkk",
        "outputId": "24fd3fe3-7dcb-4f97-fc4d-af056983ce48"
      },
      "execution_count": 9,
      "outputs": [
        {
          "output_type": "execute_result",
          "data": {
            "text/plain": [
              "-cos(x)**5/5"
            ],
            "text/latex": "$\\displaystyle - \\frac{\\cos^{5}{\\left(x \\right)}}{5}$"
          },
          "metadata": {},
          "execution_count": 9
        }
      ]
    },
    {
      "cell_type": "markdown",
      "source": [
        "# sympy.integrals.manualintegrate.integral_steps(integrand, symbol, **options)[source]\n",
        "**Returns the steps needed to compute an integral.**\n",
        "\n",
        "## Returns\n",
        "**rule : namedtuple**\n",
        "\n",
        "**The first step; most rules have substeps that must also be considered. These substeps can be evaluated using manualintegrate to obtain a result.**\n",
        "\n",
        "### Explanation\n",
        "\n",
        "**This function attempts to mirror what a student would do by hand as closely as possible.**\n",
        "\n",
        "SymPy Gamma uses this to provide a step-by-step explanation of an integral. The code it uses to format the results of this function can be found at https://github.com/sympy/sympy_gamma/blob/master/app/logic/intsteps.py.\n",
        "\n",
        "### Examples\n",
        "\n",
        "Run code block in SymPy Live\n",
        "from sympy import exp, sin\n",
        "from sympy.integrals.manualintegrate import integral_steps\n",
        "from sympy.abc import x\n",
        "print(repr(integral_steps(exp(x) / (1 + exp(2 * x)), x)))     \n",
        "URule(u_var=_u, u_func=exp(x), constant=1,\n",
        "substep=PiecewiseRule(subfunctions=[(ArctanRule(a=1, b=1, c=1, context=1/(_u**2 + 1), symbol=_u), True),\n",
        "    (ArccothRule(a=1, b=1, c=1, context=1/(_u**2 + 1), symbol=_u), False),\n",
        "    (ArctanhRule(a=1, b=1, c=1, context=1/(_u**2 + 1), symbol=_u), False)],\n",
        "context=1/(_u**2 + 1), symbol=_u), context=exp(x)/(exp(2*x) + 1), symbol=x)\n",
        "print(repr(integral_steps(sin(x), x)))     \n",
        "TrigRule(func='sin', arg=x, context=sin(x), symbol=x)\n",
        "print(repr(integral_steps((x**2 + 3)**2, x)))     \n",
        "RewriteRule(rewritten=x**4 + 6*x**2 + 9,\n",
        "substep=AddRule(substeps=[PowerRule(base=x, exp=4, context=x**4, symbol=x),\n",
        "    ConstantTimesRule(constant=6, other=x**2,\n",
        "        substep=PowerRule(base=x, exp=2, context=x**2, symbol=x),\n",
        "            context=6*x**2, symbol=x),\n",
        "    ConstantRule(constant=9, context=9, symbol=x)],\n",
        "context=x**4 + 6*x**2 + 9, symbol=x), context=(x**2 + 3)**2, symbol=x)"
      ],
      "metadata": {
        "id": "q7rqKnGexCwl"
      }
    },
    {
      "cell_type": "code",
      "source": [
        "from sympy import exp, sin\n",
        "from sympy.integrals.manualintegrate import integral_steps\n",
        "from sympy.abc import x\n",
        "print(repr(integral_steps(exp(x) / (1 + exp(2 * x)), x)))     \n",
        "\n",
        "#URule(u_var=_u, u_func=exp(x), constant=1,\n",
        "##substep=PiecewiseRule(subfunctions=[(ArctanRule(a=1, b=1, c=1, context=1/(_u**2 + 1), symbol=_u), True),\n",
        "###    (ArccothRule(a=1, b=1, c=1, context=1/(_u**2 + 1), symbol=_u), False),\n",
        "###    (ArctanhRule(a=1, b=1, c=1, context=1/(_u**2 + 1), symbol=_u), False)],\n",
        "#### context=1/(_u**2 + 1), symbol=_u), context=exp(x)/(exp(2*x) + 1), symbol=x)\n"
      ],
      "metadata": {
        "colab": {
          "base_uri": "https://localhost:8080/"
        },
        "id": "uDlYrX4FxuMS",
        "outputId": "fddeae78-5d28-4920-8748-58a33b3c182f"
      },
      "execution_count": 10,
      "outputs": [
        {
          "output_type": "stream",
          "name": "stdout",
          "text": [
            "URule(u_var=_u, u_func=exp(x), constant=1, substep=PiecewiseRule(subfunctions=[(ArctanRule(a=1, b=1, c=1, context=1/(_u**2 + 1), symbol=_u), True), (ArccothRule(a=1, b=1, c=1, context=1/(_u**2 + 1), symbol=_u), False), (ArctanhRule(a=1, b=1, c=1, context=1/(_u**2 + 1), symbol=_u), False)], context=1/(_u**2 + 1), symbol=_u), context=exp(x)/(exp(2*x) + 1), symbol=x)\n"
          ]
        }
      ]
    },
    {
      "cell_type": "code",
      "source": [
        "integrand1 = exp(x) / (1 + exp(2 * x))"
      ],
      "metadata": {
        "id": "O49Vu9yqHMdz"
      },
      "execution_count": 12,
      "outputs": []
    },
    {
      "cell_type": "code",
      "source": [
        "integrand1"
      ],
      "metadata": {
        "colab": {
          "base_uri": "https://localhost:8080/",
          "height": 53
        },
        "id": "vCQvcdqzHdDD",
        "outputId": "5693f1a3-150f-43e8-bba1-2f11dee3eb83"
      },
      "execution_count": 13,
      "outputs": [
        {
          "output_type": "execute_result",
          "data": {
            "text/plain": [
              "exp(x)/(exp(2*x) + 1)"
            ],
            "text/latex": "$\\displaystyle \\frac{e^{x}}{e^{2 x} + 1}$"
          },
          "metadata": {},
          "execution_count": 13
        }
      ]
    },
    {
      "cell_type": "code",
      "source": [
        "manualintegrate(integrand1, x)"
      ],
      "metadata": {
        "colab": {
          "base_uri": "https://localhost:8080/",
          "height": 38
        },
        "id": "qU9Gyj6THmJ0",
        "outputId": "701bbcae-a192-4317-dddd-c0e0622da2db"
      },
      "execution_count": 14,
      "outputs": [
        {
          "output_type": "execute_result",
          "data": {
            "text/plain": [
              "atan(exp(x))"
            ],
            "text/latex": "$\\displaystyle \\operatorname{atan}{\\left(e^{x} \\right)}$"
          },
          "metadata": {},
          "execution_count": 14
        }
      ]
    },
    {
      "cell_type": "code",
      "source": [
        "integrate(integrand1, x)"
      ],
      "metadata": {
        "colab": {
          "base_uri": "https://localhost:8080/",
          "height": 38
        },
        "id": "YGiMnSGNIFBS",
        "outputId": "7415f0d0-1f2e-4a1d-91cd-f0a219b5fdb8"
      },
      "execution_count": 15,
      "outputs": [
        {
          "output_type": "execute_result",
          "data": {
            "text/plain": [
              "RootSum(4*_z**2 + 1, Lambda(_i, _i*log(2*_i + exp(x))))"
            ],
            "text/latex": "$\\displaystyle \\operatorname{RootSum} {\\left(4 z^{2} + 1, \\left( i \\mapsto i \\log{\\left(2 i + e^{x} \\right)} \\right)\\right)}$"
          },
          "metadata": {},
          "execution_count": 15
        }
      ]
    },
    {
      "cell_type": "code",
      "source": [
        "integrate(integrand1)"
      ],
      "metadata": {
        "colab": {
          "base_uri": "https://localhost:8080/",
          "height": 38
        },
        "id": "emqwuXwtIR4M",
        "outputId": "0c77aa86-0d0b-4b83-9e94-327d705649e0"
      },
      "execution_count": 16,
      "outputs": [
        {
          "output_type": "execute_result",
          "data": {
            "text/plain": [
              "RootSum(4*_z**2 + 1, Lambda(_i, _i*log(2*_i + exp(x))))"
            ],
            "text/latex": "$\\displaystyle \\operatorname{RootSum} {\\left(4 z^{2} + 1, \\left( i \\mapsto i \\log{\\left(2 i + e^{x} \\right)} \\right)\\right)}$"
          },
          "metadata": {},
          "execution_count": 16
        }
      ]
    },
    {
      "cell_type": "markdown",
      "source": [
        ""
      ],
      "metadata": {
        "id": "JlpCirWbxDdP"
      }
    },
    {
      "cell_type": "markdown",
      "source": [
        "# DiracDelta Laplace Fourier\n",
        "\n",
        "### SymPy Integrals and Utility Functions \n"
      ],
      "metadata": {
        "id": "fLQxmqKZjcZR"
      }
    },
    {
      "cell_type": "code",
      "source": [
        "from sympy import DiracDelta, exp, laplace_transform\n",
        "from sympy.abc import t, s, a\n",
        "laplace_transform(t**4, t, s)\n",
        "#(24/s**5, 0, True)\n"
      ],
      "metadata": {
        "colab": {
          "base_uri": "https://localhost:8080/"
        },
        "id": "CYST7RURX8tW",
        "outputId": "75ef7505-2c36-46da-abe1-8faf4d7b32e8"
      },
      "execution_count": 1,
      "outputs": [
        {
          "output_type": "execute_result",
          "data": {
            "text/plain": [
              "(24/s**5, 0, True)"
            ]
          },
          "metadata": {},
          "execution_count": 1
        }
      ]
    },
    {
      "cell_type": "code",
      "source": [
        "laplace_transform(t**a, t, s)\n",
        "#(gamma(a + 1)/(s*s**a), 0, re(a) > -1)\n"
      ],
      "metadata": {
        "colab": {
          "base_uri": "https://localhost:8080/",
          "height": 57
        },
        "id": "Q-7yvkC5YGCN",
        "outputId": "8aca73d4-dc84-48e3-d5aa-d38e935f6a62"
      },
      "execution_count": 7,
      "outputs": [
        {
          "output_type": "execute_result",
          "data": {
            "text/plain": [
              "⎛ -a                        ⎞\n",
              "⎜s  ⋅Γ(a + 1)               ⎟\n",
              "⎜────────────, 0, re(a) > -1⎟\n",
              "⎝     s                     ⎠"
            ],
            "image/png": "[encoded data removed]",
            "text/latex": "$\\displaystyle \\left( \\frac{s^{- a} \\Gamma\\left(a + 1\\right)}{s}, \\  0, \\  \\operatorname{re}{\\left(a\\right)} > -1\\right)$"
          },
          "metadata": {},
          "execution_count": 7
        }
      ]
    },
    {
      "cell_type": "code",
      "source": [
        "laplace_transform(DiracDelta(t)-a*exp(-a*t),t,s)\n",
        "#(s/(a + s), Max(0, -a), True)"
      ],
      "metadata": {
        "colab": {
          "base_uri": "https://localhost:8080/",
          "height": 57
        },
        "id": "Fe4aWNqWYr4b",
        "outputId": "d1bc2069-e410-4dd7-d138-fa86e8196ee6"
      },
      "execution_count": 8,
      "outputs": [
        {
          "output_type": "execute_result",
          "data": {
            "text/plain": [
              "⎛    a                             π⎞\n",
              "⎜- ───── - θ(0) + 1, 0, │arg(a)│ < ─⎟\n",
              "⎝  a + s                           2⎠"
            ],
            "image/png": "[encoded data removed]",
            "text/latex": "$\\displaystyle \\left( - \\frac{a}{a + s} - \\theta\\left(0\\right) + 1, \\  0, \\  \\left|{\\arg{\\left(a \\right)}}\\right| < \\frac{\\pi}{2}\\right)$"
          },
          "metadata": {},
          "execution_count": 8
        }
      ]
    },
    {
      "cell_type": "code",
      "source": [
        "texp1 = DiracDelta(t)-a*exp(-a*t)"
      ],
      "metadata": {
        "id": "EeHRWgfsXnVN"
      },
      "execution_count": 2,
      "outputs": []
    },
    {
      "cell_type": "code",
      "source": [
        "texp1"
      ],
      "metadata": {
        "colab": {
          "base_uri": "https://localhost:8080/",
          "height": 38
        },
        "id": "wutQhOy9Y4mm",
        "outputId": "31180dd3-296c-4afa-e3c2-f58c10cdf1f6"
      },
      "execution_count": 7,
      "outputs": [
        {
          "output_type": "execute_result",
          "data": {
            "text/plain": [
              "     -a⋅t       \n",
              "- a⋅ℯ     + δ(t)"
            ],
            "image/png": "[encoded data removed]",
            "text/latex": "$\\displaystyle - a e^{- a t} + \\delta\\left(t\\right)$"
          },
          "metadata": {},
          "execution_count": 7
        }
      ]
    },
    {
      "cell_type": "code",
      "source": [
        "laplace_transform(texp1, t, s)"
      ],
      "metadata": {
        "colab": {
          "base_uri": "https://localhost:8080/",
          "height": 57
        },
        "id": "fxBY-rW5X5o-",
        "outputId": "945b24fb-dbe6-4bde-9ed8-dbb410d8bbef"
      },
      "execution_count": 6,
      "outputs": [
        {
          "output_type": "execute_result",
          "data": {
            "text/plain": [
              "⎛    a                             π⎞\n",
              "⎜- ───── - θ(0) + 1, 0, │arg(a)│ ≤ ─⎟\n",
              "⎝  a + s                           2⎠"
            ],
            "image/png": "[encoded data removed]",
            "text/latex": "$\\displaystyle \\left( - \\frac{a}{a + s} - \\theta\\left(0\\right) + 1, \\  0, \\  \\left|{\\arg{\\left(a \\right)}}\\right| \\leq \\frac{\\pi}{2}\\right)$"
          },
          "metadata": {},
          "execution_count": 6
        }
      ]
    },
    {
      "cell_type": "code",
      "source": [
        "import sympy as sym\n",
        "sym.init_printing()\n"
      ],
      "metadata": {
        "id": "NP0Lf-f2YGVj"
      },
      "execution_count": 5,
      "outputs": []
    },
    {
      "cell_type": "code",
      "source": [
        ""
      ],
      "metadata": {
        "id": "B-wpxUN5Y05a"
      },
      "execution_count": null,
      "outputs": []
    }
  ]
}